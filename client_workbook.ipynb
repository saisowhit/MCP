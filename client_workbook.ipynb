{
 "cells": [
  {
   "cell_type": "code",
   "execution_count": null,
   "id": "c37d574c",
   "metadata": {},
   "outputs": [],
   "source": [
    "import asyncio\n",
    "import nest_asyncio\n",
    "from mcp import ClientSession,StdioServerParameters\n",
    "from mcp.client.stdio import studio_client\n",
    "nest_asyncio.apply()\n"
   ]
  },
  {
   "cell_type": "code",
   "execution_count": null,
   "id": "3c524a44",
   "metadata": {},
   "outputs": [],
   "source": [
    "## Make sure\n",
    "## 1. The server is running before runnin this script\n",
    "## 2. The server is configured to use SSE Transport\n"
   ]
  },
  {
   "cell_type": "code",
   "execution_count": null,
   "id": "bae0abf0",
   "metadata": {},
   "outputs": [],
   "source": [
    "asyc def  main():\n",
    "    server_params=StdioServerParameters(command=\"python\",args=[\"server.py\"])\n",
    "    await session.intialize()\n",
    "    ## list available tools\n",
    "    tool_result=await session.list_tools()\n",
    "    for tool in tool_result.tools:\n",
    "        print(f\" -{tool.name}:{tool.description}\")\n",
    "        result=await session.call_tool(\"add\")\n",
    "        print(f\"2+3={result.content[0]}\")\n",
    "\n",
    "if __name__==\"__main__\":\n",
    "    asyncio.run(main())"
   ]
  }
 ],
 "metadata": {
  "language_info": {
   "name": "python"
  }
 },
 "nbformat": 4,
 "nbformat_minor": 5
}
