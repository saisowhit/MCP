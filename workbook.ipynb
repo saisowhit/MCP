{
 "cells": [
  {
   "cell_type": "code",
   "execution_count": null,
   "id": "205cf620",
   "metadata": {},
   "outputs": [
    {
     "ename": "",
     "evalue": "",
     "output_type": "error",
     "traceback": [
      "\u001b[1;31mRunning cells with 'Python 3.11.9' requires the ipykernel package.\n",
      "\u001b[1;31m<a href='command:jupyter.createPythonEnvAndSelectController'>Create a Python Environment</a> with the required packages.\n",
      "\u001b[1;31mOr install 'ipykernel' using the command: 'c:/Users/prativadis/AppData/Local/Microsoft/WindowsApps/python3.11.exe -m pip install ipykernel -U --user --force-reinstall'"
     ]
    }
   ],
   "source": [
    "from mcp.server.fastmcp import FASTMCP\n",
    "from dotenv import load_dotenv\n",
    "mcp=FASTMCP(name=\"calculator\",host=\"0.0.0.0\",port=8050)"
   ]
  },
  {
   "cell_type": "code",
   "execution_count": null,
   "id": "f68ea8f3",
   "metadata": {},
   "outputs": [],
   "source": [
    "# Add a simple calculator\n"
   ]
  },
  {
   "cell_type": "code",
   "execution_count": null,
   "id": "6c242c0c",
   "metadata": {},
   "outputs": [],
   "source": [
    "@mcp.tool\n",
    "def add(a:int,b:int):\n",
    "    return a+b"
   ]
  },
  {
   "cell_type": "code",
   "execution_count": null,
   "id": "c19b3dcb",
   "metadata": {},
   "outputs": [],
   "source": [
    "## Run the server"
   ]
  },
  {
   "cell_type": "code",
   "execution_count": null,
   "id": "3efbbb26",
   "metadata": {},
   "outputs": [],
   "source": [
    "if __name__==\"__main__\":\n",
    "    transport=\"sse\"\n",
    "    if transport==\"studio\":\n",
    "        print(\"Running server with studio transport\")\n",
    "        "
   ]
  }
 ],
 "metadata": {
  "kernelspec": {
   "display_name": "Python 3",
   "language": "python",
   "name": "python3"
  },
  "language_info": {
   "name": "python",
   "version": "3.11.9"
  }
 },
 "nbformat": 4,
 "nbformat_minor": 5
}
