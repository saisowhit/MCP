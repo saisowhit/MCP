{
 "cells": [
  {
   "cell_type": "code",
   "execution_count": null,
   "id": "b830bb1d",
   "metadata": {},
   "outputs": [],
   "source": [
    "import tensorflow as tf"
   ]
  },
  {
   "cell_type": "code",
   "execution_count": null,
   "id": "53a4ab67",
   "metadata": {},
   "outputs": [],
   "source": [
    "zero=tf.Variable(0)\n",
    "one=tf.constant(1) ## constant can have other names or parameters\n",
    "new_value=tf.add(zero,one)\n",
    "## variable value can be changed\n",
    "updated=tf.constant(zero,new_value)"
   ]
  },
  {
   "cell_type": "code",
   "execution_count": null,
   "id": "1297dc70",
   "metadata": {},
   "outputs": [],
   "source": [
    "## update"
   ]
  },
  {
   "cell_type": "code",
   "execution_count": null,
   "id": "d98a0ca8",
   "metadata": {},
   "outputs": [],
   "source": [
    "tf.assign(one,new_value) ## if we modify the constant and a variable then it will throw an error"
   ]
  },
  {
   "cell_type": "code",
   "execution_count": null,
   "id": "1324ac58",
   "metadata": {},
   "outputs": [],
   "source": [
    "init_op=tf.global_varaibles_intializer()\n",
    "sess=tf.Session()\n",
    "sess.run(init_op)\n",
    "print(sess.run(zero))"
   ]
  },
  {
   "cell_type": "code",
   "execution_count": null,
   "id": "081b3a3f",
   "metadata": {},
   "outputs": [],
   "source": [
    "for _ in range(5)"
   ]
  }
 ],
 "metadata": {
  "kernelspec": {
   "display_name": "Python 3",
   "language": "python",
   "name": "python3"
  },
  "language_info": {
   "name": "python",
   "version": "3.11.9"
  }
 },
 "nbformat": 4,
 "nbformat_minor": 5
}
