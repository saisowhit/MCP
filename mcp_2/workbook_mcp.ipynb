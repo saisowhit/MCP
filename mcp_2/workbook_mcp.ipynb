{
 "cells": [
  {
   "cell_type": "code",
   "execution_count": null,
   "id": "3aa12918",
   "metadata": {},
   "outputs": [
    {
     "ename": "",
     "evalue": "",
     "output_type": "error",
     "traceback": [
      "\u001b[1;31mRunning cells with 'Python 3.11.9' requires the ipykernel package.\n",
      "\u001b[1;31m<a href='command:jupyter.createPythonEnvAndSelectController'>Create a Python Environment</a> with the required packages.\n",
      "\u001b[1;31mOr install 'ipykernel' using the command: 'c:/Users/prativadis/AppData/Local/Microsoft/WindowsApps/python3.11.exe -m pip install ipykernel -U --user --force-reinstall'"
     ]
    }
   ],
   "source": [
    "from typing import Any\n",
    "import httpx\n",
    "from mcp.server.fastmcp import FastMcp\n",
    "mcp=FastMcp(\"weather\")"
   ]
  },
  {
   "cell_type": "code",
   "execution_count": null,
   "id": "6bae627d",
   "metadata": {},
   "outputs": [
    {
     "ename": "",
     "evalue": "",
     "output_type": "error",
     "traceback": [
      "\u001b[1;31mRunning cells with 'Python 3.11.9' requires the ipykernel package.\n",
      "\u001b[1;31m<a href='command:jupyter.createPythonEnvAndSelectController'>Create a Python Environment</a> with the required packages.\n",
      "\u001b[1;31mOr install 'ipykernel' using the command: 'c:/Users/prativadis/AppData/Local/Microsoft/WindowsApps/python3.11.exe -m pip install ipykernel -U --user --force-reinstall'"
     ]
    }
   ],
   "source": [
    "# # constants\n",
    "# NWS_API_BASE=\"https://api.weather.gov\"\n",
    "# USER_AGENT=\"weaher-app/1.0\""
   ]
  },
  {
   "cell_type": "code",
   "execution_count": null,
   "id": "0b5761f6",
   "metadata": {},
   "outputs": [],
   "source": [
    "async def make_nws_request(url:str):\n",
    "    headers={}\n",
    "    async with httpx.AsyncClient() as client:\n",
    "        try:\n",
    "            response=await client.get(url,headers=headers,timeout=30.0)\n",
    "            response.raise_for_status()\n",
    "            return response.json()\n",
    "        except Exception:\n",
    "            return None"
   ]
  },
  {
   "cell_type": "code",
   "execution_count": null,
   "id": "e289be0d",
   "metadata": {},
   "outputs": [],
   "source": [
    "def format_alert(feature:dict):\n",
    "    props=feature[\"propreties\"]\n",
    "    return f\"\"\"Event: {props.get('event','unknow')}\n",
    "    Area: {props.get('areaDesc','Unknown')}\n",
    "    Severity:{props.get('severity','Unknown')}\n",
    "    Description: {props.get('description','No description available')}\n",
    "    Instructions:{props.get('instruction','No specific instruction')}\n",
    "\"\"\""
   ]
  },
  {
   "cell_type": "code",
   "execution_count": null,
   "id": "0fd7219d",
   "metadata": {},
   "outputs": [],
   "source": [
    "@mcp.tool()\n",
    "async def get_alerts(state:str):\n",
    "    url=f\"{NWS_API_BASE}/alerts/active/area/{state}\"\n",
    "    data=await make_nws_request(url)\n",
    "    if not data or \"features\" in data:\n",
    "        return \"Unable to fetch alerts or no alerts found\"\n",
    "    alerts=[format_alert(feature) for feature in data[\"features\"]]\n",
    "    return \"\\n--\\n\".join(alerts)"
   ]
  },
  {
   "cell_type": "code",
   "execution_count": null,
   "id": "d8fd03b5",
   "metadata": {},
   "outputs": [],
   "source": [
    "## read a config app"
   ]
  },
  {
   "cell_type": "code",
   "execution_count": null,
   "id": "d8a868c0",
   "metadata": {},
   "outputs": [],
   "source": [
    "@mcp.resource(\"config://app\")\n",
    "def get_config():\n",
    "    \"\"\"static configuration data\"\"\"\n",
    "    return \"App config here\""
   ]
  },
  {
   "cell_type": "code",
   "execution_count": null,
   "id": "954bf280",
   "metadata": {},
   "outputs": [],
   "source": [
    "@mcp.resource(\"echo://{message}\")\n",
    "def echo_message(message:str)->str:\n",
    "    return f\"Resource echo:{message}\""
   ]
  }
 ],
 "metadata": {
  "kernelspec": {
   "display_name": "Python 3",
   "language": "python",
   "name": "python3"
  },
  "language_info": {
   "name": "python",
   "version": "3.11.9"
  }
 },
 "nbformat": 4,
 "nbformat_minor": 5
}
